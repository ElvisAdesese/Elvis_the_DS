{
 "cells": [
  {
   "cell_type": "code",
   "execution_count": null,
   "id": "cf5bb461",
   "metadata": {},
   "outputs": [],
   "source": [
    "import mysql.connector"
   ]
  },
  {
   "cell_type": "code",
   "execution_count": null,
   "id": "637b25d3",
   "metadata": {},
   "outputs": [],
   "source": []
  },
  {
   "cell_type": "code",
   "execution_count": null,
   "id": "cafd6347",
   "metadata": {},
   "outputs": [
    {
     "name": "stdout",
     "output_type": "stream",
     "text": [
      "\n",
      "                    1. OPEN NEW ACCOUNT\n",
      "                    2. DEPOSIT AMOUNT\n",
      "                    3. WITHDRAW AMOUNT\n",
      "                    4. BALANCE ENQUIRY\n",
      "                    5. DISPLAY CUSTOMER DETAILS\n",
      "                    6. CLOSE AN ACCOUNT\n"
     ]
    }
   ],
   "source": [
    "def OpenAcc():\n",
    "    name=input('Enter the Name:')\n",
    "    ac=input('Enter the Account No:')\n",
    "    db=input('Enter the Date of Birth:')\n",
    "    add=input('Enter the address:')\n",
    "    cn=input('Enter the Contact Number:')\n",
    "    ob=int(input('Enter the opening balance:'))\n",
    "    data1=(name,ac,db,add,cn,ob)\n",
    "    data2=2(name,ac,ob)\n",
    "    sq1=('insert into account values (%s,%s,%s,%s,%s,%s)')\n",
    "    sq2=('Insert into amount values()%s,%s,%s')\n",
    "    \n",
    "    \n",
    "    \n",
    "\n",
    "def main():\n",
    "    print( '''\n",
    "                    1. OPEN NEW ACCOUNT\n",
    "                    2. DEPOSIT AMOUNT\n",
    "                    3. WITHDRAW AMOUNT\n",
    "                    4. BALANCE ENQUIRY\n",
    "                    5. DISPLAY CUSTOMER DETAILS\n",
    "                    6. CLOSE AN ACCOUNT''')\n",
    "    choice= input('Enter The task You want to perform:')\n",
    "    if (choice=='1'):\n",
    "        OpenAcc()\n",
    "    elif (choice=='2'):\n",
    "        depoAmo()\n",
    "    elif (choice=='3'):\n",
    "        withdrawAmount()\n",
    "    elif (choice=='4'):\n",
    "        balEnq()\n",
    "    elif (choice=='5'):\n",
    "        DisDetails()\n",
    "    elif (choice=='6'):\n",
    "        CloseAcc()\n",
    "    else:\n",
    "        print('Invalid Choice')\n",
    "        main()\n",
    "main()        \n",
    "                    "
   ]
  },
  {
   "cell_type": "code",
   "execution_count": 2,
   "id": "21edf3c9",
   "metadata": {},
   "outputs": [],
   "source": [
    "import pandas"
   ]
  },
  {
   "cell_type": "code",
   "execution_count": null,
   "id": "08b046fc",
   "metadata": {},
   "outputs": [],
   "source": []
  }
 ],
 "metadata": {
  "kernelspec": {
   "display_name": "Python 3 (ipykernel)",
   "language": "python",
   "name": "python3"
  },
  "language_info": {
   "codemirror_mode": {
    "name": "ipython",
    "version": 3
   },
   "file_extension": ".py",
   "mimetype": "text/x-python",
   "name": "python",
   "nbconvert_exporter": "python",
   "pygments_lexer": "ipython3",
   "version": "3.9.12"
  }
 },
 "nbformat": 4,
 "nbformat_minor": 5
}
